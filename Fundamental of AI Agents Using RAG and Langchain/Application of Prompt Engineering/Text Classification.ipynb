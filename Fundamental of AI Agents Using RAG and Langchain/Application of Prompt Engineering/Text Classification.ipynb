{
 "cells": [
  {
   "cell_type": "code",
   "execution_count": 1,
   "id": "86f1b220-abfe-49f2-b1a2-9252691efb9c",
   "metadata": {},
   "outputs": [],
   "source": [
    "from langchain.prompts import PromptTemplate\n",
    "from langchain.chains import LLMChain\n",
    "from langchain.llms import Ollama"
   ]
  },
  {
   "cell_type": "code",
   "execution_count": 2,
   "id": "a83fd4f4-b172-420c-a137-dc1a3f21ef70",
   "metadata": {},
   "outputs": [],
   "source": [
    "def Text_classification(Text):\n",
    "    categories = \"Entertainment, Food and Dining, Technology, Literature,  Music\"\n",
    "    template = \"\"\"Classify the {Text} into the one of the {categories} just give me the categories nothing else required\"\"\"\n",
    "\n",
    "    prompt = PromptTemplate.from_template(template)\n",
    "    \n",
    "    llm = Ollama(model = 'mistral')\n",
    "\n",
    "    llm_chain = LLMChain(prompt = prompt, llm = llm , verbose = True, output_key = \"categories\")\n",
    "    response = llm_chain.invoke(input = {\"Text\" : Text, \"categories\" : categories })\n",
    "    print(response['categories'])"
   ]
  },
  {
   "cell_type": "code",
   "execution_count": 3,
   "id": "f7aaa7b0-5ed8-4003-a689-1eba66f347eb",
   "metadata": {},
   "outputs": [
    {
     "name": "stdout",
     "output_type": "stream",
     "text": [
      "\n",
      "\n",
      "\u001b[1m> Entering new LLMChain chain...\u001b[0m\n",
      "Prompt after formatting:\n",
      "\u001b[32;1m\u001b[1;3mClassify the The concert last night was an exhilarating experience with outstanding performances by all artists. into the one of the Entertainment, Food and Dining, Technology, Literature,  Music just give me the categories nothing else required\u001b[0m\n",
      "\n",
      "\u001b[1m> Finished chain.\u001b[0m\n",
      " Music\n"
     ]
    }
   ],
   "source": [
    "Text_classification(\"\"\"The concert last night was an exhilarating experience with outstanding performances by all artists.\"\"\")"
   ]
  },
  {
   "cell_type": "code",
   "execution_count": null,
   "id": "2fc4ee69-2089-488c-b3bd-cf415eba3b05",
   "metadata": {},
   "outputs": [],
   "source": []
  }
 ],
 "metadata": {
  "kernelspec": {
   "display_name": "Python 3 (ipykernel)",
   "language": "python",
   "name": "python3"
  },
  "language_info": {
   "codemirror_mode": {
    "name": "ipython",
    "version": 3
   },
   "file_extension": ".py",
   "mimetype": "text/x-python",
   "name": "python",
   "nbconvert_exporter": "python",
   "pygments_lexer": "ipython3",
   "version": "3.12.7"
  }
 },
 "nbformat": 4,
 "nbformat_minor": 5
}
