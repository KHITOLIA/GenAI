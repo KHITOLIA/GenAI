{
 "cells": [
  {
   "cell_type": "markdown",
   "id": "2abea047-07c4-47e4-b392-906ff18a01bc",
   "metadata": {},
   "source": [
    "# Using Ollama model for Prompting\n"
   ]
  },
  {
   "cell_type": "markdown",
   "id": "674f31d5-a086-4244-bcf0-0a5238b7bc92",
   "metadata": {},
   "source": [
    "# Zero Shot Prompting"
   ]
  },
  {
   "cell_type": "code",
   "execution_count": 1,
   "id": "b91d39b0-9edd-433c-899c-b4445b37b58f",
   "metadata": {},
   "outputs": [],
   "source": [
    "import ollama\n",
    "client = ollama.Client()\n",
    "model = 'mistral'\n",
    "zero_shot_prompt = \"What is machine learning\"\n",
    "zero_shot_output = client.generate(model = model, prompt = zero_shot_prompt).response"
   ]
  },
  {
   "cell_type": "code",
   "execution_count": 3,
   "id": "a3e80489-07eb-4b40-9531-134b52664ae9",
   "metadata": {},
   "outputs": [
    {
     "data": {
      "text/plain": [
       "' Machine Learning (ML) is a subset of artificial intelligence that enables computers to learn and make decisions by analyzing data, without being explicitly programmed. It focuses on the development of algorithms and statistical models that allow systems to automatically improve their performance in a specific task over time, by learning from large amounts of data. The goal of machine learning is to enable machines to perform tasks that would require human-like intelligence, such as recognizing speech, understanding images, making decisions, or predicting outcomes. Machine learning algorithms are used in various fields, including computer vision, natural language processing, and data mining, among others. They can be categorized into three main types: supervised learning, unsupervised learning, and reinforcement learning. Each of these categories has different applications and uses different types of data to learn and make predictions or decisions.'"
      ]
     },
     "execution_count": 3,
     "metadata": {},
     "output_type": "execute_result"
    }
   ],
   "source": [
    "zero_shot_output"
   ]
  },
  {
   "cell_type": "markdown",
   "id": "63a12833-b9f2-49a6-b2bd-91ed54e53e17",
   "metadata": {},
   "source": [
    "# One Shot Prompting"
   ]
  },
  {
   "cell_type": "code",
   "execution_count": 3,
   "id": "d95f93ee-032a-479f-a523-7c3ab5ff9ace",
   "metadata": {},
   "outputs": [],
   "source": [
    "one_shot_prompt = \"\"\"Translation from English to hindi :\n",
    "                     English : Hello how are you ?\n",
    "                     Hindi : Namastey aap kaise hai ?\n",
    "                     English : Waht is machine learning ?\n",
    "                     Hindi : \"\"\"\n",
    "one_shot_output = client.generate(model = model, prompt = one_shot_prompt).response"
   ]
  },
  {
   "cell_type": "code",
   "execution_count": 4,
   "id": "0172a073-8ba0-4fd5-b309-090110e0d57d",
   "metadata": {},
   "outputs": [
    {
     "data": {
      "text/plain": [
       "'किसी बहुत ज्यादु घरेलू वैज्ञान है, जिसमें शामिल होने वाले कम्प्यूटर नेटवर्क द्वारा सबसे अधिक डेटा के तराण से और समाज से संबंधित सचे होने वाले उदाहरणों (या training data) का इकाई करना चाहिए ताकि वे अपना शुँशु (label) जाने सakte हैं। यह मशीन लर्निंग (ML) कहा जाता है। इसका एक अधिक विभिन्न उदाहरण फोटो और टेक्स्ट में परिणामित होकर, किसी विशिष्ट विषय के लिए गुणांक अनुमान करना।\\n\\nMachine Learning in Hindi is called \"मशीन लर्निंग\" or \"सामान्य अधिकार प्रारंभिक विज्ञान\".'"
      ]
     },
     "execution_count": 4,
     "metadata": {},
     "output_type": "execute_result"
    }
   ],
   "source": [
    "one_shot_output"
   ]
  },
  {
   "cell_type": "markdown",
   "id": "a806918a-89a7-429c-9045-1dd017c4be7d",
   "metadata": {},
   "source": [
    "# Few Shot Prompting"
   ]
  },
  {
   "cell_type": "code",
   "execution_count": 5,
   "id": "055c2e9f-90e6-4ce9-9e5f-9af06d8048ef",
   "metadata": {},
   "outputs": [],
   "source": [
    "few_shot_prompt = \"\"\" Q : What is the captial of India \n",
    "                      A : New Delhi \n",
    "                      Q : Best Data Science Course available on internet\n",
    "                      A : Microsoft Certified Data Science\n",
    "                      Q : What is the Highes GPD country in the world on the behalf of your data ? \"\"\"\n",
    "few_shot_output = client.generate(model = model, prompt = few_shot_prompt).response"
   ]
  },
  {
   "cell_type": "code",
   "execution_count": 6,
   "id": "37e178bf-4b06-43dc-8107-e712b030c734",
   "metadata": {},
   "outputs": [
    {
     "data": {
      "text/plain": [
       "\" A: Based on my last updated data, as of October 2021, the country with the highest GDP is the United States. However, it's always a good practice to check for the most recent data as this can change over time.\""
      ]
     },
     "execution_count": 6,
     "metadata": {},
     "output_type": "execute_result"
    }
   ],
   "source": [
    "few_shot_output"
   ]
  },
  {
   "cell_type": "markdown",
   "id": "f8323da3-e2f6-417f-a06f-0907b7fae599",
   "metadata": {},
   "source": [
    "# Chain Of Thought"
   ]
  },
  {
   "cell_type": "code",
   "execution_count": 4,
   "id": "0e1aacb9-e55f-47c3-9b34-a6f8ae0ad9b7",
   "metadata": {},
   "outputs": [
    {
     "name": "stdout",
     "output_type": "stream",
     "text": [
      "Chain of Thought:  To answer this question, we need to know the height from which the stone was thrown and the acceleration due to gravity (g), which is approximately 9.8 m/s². However, without that information, I can't provide an exact time for the stone to return to its initial point.\n",
      "\n",
      "Here's a simplified explanation of how you could solve this problem:\n",
      "\n",
      "1. When thrown, the stone experiences a downward acceleration due to gravity (g).\n",
      "2. The motion of the stone is affected by the net force acting on it, which in this case is the gravitational force minus any air resistance.\n",
      "3. To find the time taken for the stone to return to its initial point, you can use the equation for constant acceleration with initial velocity (v0) equal to zero: v = u + at, where v is the final velocity (zero since it returns to the initial point), a is the acceleration due to gravity, and t is the time. Rearranging for t gives t = v / a.\n",
      "4. You would then substitute the value of g (9.8 m/s²) and the height of the throw into this equation to find the time.\n"
     ]
    }
   ],
   "source": [
    "CoT_prompt = \"\"\"Q: If a train travels 60 miles per hour for 2.5 hours, how far will it go?\n",
    "A: Let's think step by step.\n",
    "First, we multiply the speed (60 mph) by the time (2.5 hours).\n",
    "60 * 2.5 = 150.\n",
    "So, the train will travel 150 miles.\n",
    "Q : how much time does a stone of mass 10kg will take for coming back to it's initial point after throwing it in the air.\n",
    "A : \"\"\"\n",
    "chain_of_thought = client.generate(model=model, prompt = CoT_prompt).response\n",
    "print(\"Chain of Thought:\",chain_of_thought)"
   ]
  },
  {
   "cell_type": "markdown",
   "id": "f3ab9e52-a948-4563-bd08-aee72b42ba55",
   "metadata": {},
   "source": [
    "# Self Consistency\n"
   ]
  },
  {
   "cell_type": "code",
   "execution_count": 10,
   "id": "df934a48-7392-4ac3-80c0-4c601113082b",
   "metadata": {},
   "outputs": [
    {
     "data": {
      "text/plain": [
       "[' Step 1: Find the distance traveled in one hour. Since the train travels at 60 miles per hour, in one hour, it would travel 60 miles (speed * time = distance).\\n\\nStep 2: Multiply the distance traveled in one hour by the total number of hours traveled to find the total distance traveled. If the train travels for 2.5 hours, then multiply the distance per hour found in step 1 by 2.5.\\n\\nTotal Distance = Distance per Hour * Total Hours Traveled\\nTotal Distance = (60 miles/hour) * 2.5 hours\\n\\nStep 3: Calculate the total distance. Multiply 60 by 2.5 to get 150 miles.\\n\\nSo, if a train travels at 60 mph for 2.5 hours, it will go 150 miles.',\n",
       " ' To find out how far the train goes, we multiply its speed (in miles per hour) by the time (in hours). In this case, the train travels at 60 miles per hour for 2.5 hours:\\n\\nDistance = Speed * Time\\n          = 60 mph * 2.5 h\\n          = 150 miles\\n\\nSo, the train will go 150 miles in 2.5 hours.',\n",
       " ' To find out how far the train goes, we need to multiply its speed by the time it travels. In this case, the train travels at 60 miles per hour (mph) for 2.5 hours. So,\\n\\nDistance = Speed * Time\\n         = 60 mph * 2.5 hours\\n         = 150 miles\\n\\nSo, the train will go 150 miles.']"
      ]
     },
     "execution_count": 10,
     "metadata": {},
     "output_type": "execute_result"
    }
   ],
   "source": [
    "self_consistency_prompt = \"\"\" Q : If a train travels 60 miles per hour for 2.5 hours, how far will it go?\n",
    "A: so think about the answer in a step by step manner.\"\"\"\n",
    "answers = []\n",
    "for i in range(3):\n",
    "    self_consistency_output = client.generate(model = model, \n",
    "                                              prompt = self_consistency_prompt,\n",
    "                                              options = {\"temperature\" : 0.5}).response\n",
    "    answers.append(self_consistency_output)\n",
    "answers    "
   ]
  },
  {
   "cell_type": "code",
   "execution_count": 26,
   "id": "293863bf-a24e-4e59-b5a5-a5dcd070d3d5",
   "metadata": {},
   "outputs": [],
   "source": [
    "relevant_answer = []\n",
    "for i in answers:\n",
    "    relevant_answer.append(i.strip().split('\\n')[-1])"
   ]
  },
  {
   "cell_type": "code",
   "execution_count": 204,
   "id": "1f511a66-58ec-442e-b0da-5b06134b6f78",
   "metadata": {},
   "outputs": [
    {
     "data": {
      "text/plain": [
       "['So, if a train travels at 60 mph for 2.5 hours, it will go 150 miles.',\n",
       " 'So, the train will go 150 miles in 2.5 hours.',\n",
       " 'So, the train will go 150 miles.']"
      ]
     },
     "execution_count": 204,
     "metadata": {},
     "output_type": "execute_result"
    }
   ],
   "source": [
    "relevant_answer"
   ]
  },
  {
   "cell_type": "code",
   "execution_count": null,
   "id": "12fd9746-6073-451d-82c4-9ebaddfa33d7",
   "metadata": {},
   "outputs": [],
   "source": []
  }
 ],
 "metadata": {
  "kernelspec": {
   "display_name": "Python 3 (ipykernel)",
   "language": "python",
   "name": "python3"
  },
  "language_info": {
   "codemirror_mode": {
    "name": "ipython",
    "version": 3
   },
   "file_extension": ".py",
   "mimetype": "text/x-python",
   "name": "python",
   "nbconvert_exporter": "python",
   "pygments_lexer": "ipython3",
   "version": "3.12.7"
  }
 },
 "nbformat": 4,
 "nbformat_minor": 5
}
