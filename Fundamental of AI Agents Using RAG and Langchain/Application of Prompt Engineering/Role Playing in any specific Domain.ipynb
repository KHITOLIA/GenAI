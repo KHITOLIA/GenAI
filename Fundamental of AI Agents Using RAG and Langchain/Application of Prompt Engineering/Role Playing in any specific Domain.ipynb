{
 "cells": [
  {
   "cell_type": "markdown",
   "id": "2c7a350d-20db-439b-8f62-d51157af3e81",
   "metadata": {},
   "source": [
    "# Role Playing Like expert in any of the field and someone just asked you anything so you would be able to answer it"
   ]
  },
  {
   "cell_type": "code",
   "execution_count": 1,
   "id": "8abe0beb-74bd-4d97-82ed-fd66f04f1e26",
   "metadata": {},
   "outputs": [],
   "source": [
    "from langchain.prompts import PromptTemplate\n",
    "from langchain.chains import LLMChain\n",
    "from langchain.llms import Ollama"
   ]
  },
  {
   "cell_type": "code",
   "execution_count": 14,
   "id": "1feb2c29-c55c-4448-b6fa-040fb1ec9375",
   "metadata": {},
   "outputs": [],
   "source": [
    "def playing_any_role(role, question):\n",
    "    tone = \"engaging and immersive, explainatory, concise by information , accurate response\"\n",
    "    template = \"\"\"\n",
    "                You are an expert {role}. I have this question {question}. I would like our conversation to be {tone}.\n",
    "            \n",
    "            Answer:\n",
    "            \n",
    "\"\"\"\n",
    "    prompt = PromptTemplate.from_template(template)\n",
    "    output_key = \"answer\"\n",
    "\n",
    "    llm_chain = LLMChain(prompt=prompt, llm = Ollama(model = 'mistral'), output_key = output_key, verbose = True)\n",
    "    response = llm_chain.invoke(input = {\"role\" : role,\n",
    "                                         \"question\" : question, \n",
    "                                        \"tone\": tone}\n",
    "                                         )\n",
    "    print(response['answer'])"
   ]
  },
  {
   "cell_type": "code",
   "execution_count": 16,
   "id": "f3319830-8b35-46bf-ad5e-18dd3be7bad3",
   "metadata": {},
   "outputs": [
    {
     "name": "stdout",
     "output_type": "stream",
     "text": [
      "\n",
      "\n",
      "\u001b[1m> Entering new LLMChain chain...\u001b[0m\n",
      "Prompt after formatting:\n",
      "\u001b[32;1m\u001b[1;3m\n",
      "                You are an expert Microsoft Certified Trainer of Full Stack. I have this question I want a Road Map for Full Stack Development. I would like our conversation to be engaging and immersive, explainatory, concise by information , accurate response.\n",
      "            \n",
      "            Answer:\n",
      "            \n",
      "\u001b[0m\n",
      "\n",
      "\u001b[1m> Finished chain.\u001b[0m\n",
      " Title: Roadmap for Full Stack Development: A Comprehensive Guide\n",
      "\n",
      "   Greetings Developers! Today, we're diving into a thrilling journey through the world of Full Stack Development. This roadmap aims to provide you with a clear path to master the art of building end-to-end web applications, bridging both front-end and back-end technologies. Let's embark on this exhilarating adventure together!\n",
      "\n",
      "   **Phase 1: Foundation**\n",
      "\n",
      "   - Front-End:\n",
      "     - HTML5: Semantics, Structural Tags, Canvas, Audio/Video, etc.\n",
      "     - CSS3: Flexbox, Grid, Animations, Media Queries, etc.\n",
      "     - Responsive Design\n",
      "     - JavaScript ES6+ (including Promises, Map, Filter, Reduce, Destructuring, Arrow functions, Classes)\n",
      "     - AJAX/Fetch API for asynchronous requests\n",
      "     - React/Angular/Vue.js for building reusable UI components\n",
      "     - Webpack/Gulp/Grunt for build automation\n",
      "   - Back-End:\n",
      "     - Node.js: Understanding the event loop, streams, and modules\n",
      "     - Express.js for web application framework\n",
      "     - MongoDB or PostgreSQL for data storage\n",
      "     - RESTful API design\n",
      "     - JSON Web Tokens (JWT) for authentication and authorization\n",
      "\n",
      "   **Phase 2: Deepening Knowledge**\n",
      "\n",
      "   - Front-End:\n",
      "     - Advanced JavaScript (closures, prototypes, Hoisting, call/apply/bind)\n",
      "     - Redux or NgRx for state management in React/Angular\n",
      "     - React Hooks or Vue Composition API\n",
      "     - GraphQL with Apollo Client for data queries\n",
      "     - Styled-Components or CSS-in-JS libraries\n",
      "   - Back-End:\n",
      "     - Advanced Node.js (stream pipelining, clustering, child_processes)\n",
      "     - TypeScript with Node.js for static typing\n",
      "     - Nest.js for a more sophisticated back-end framework\n",
      "     - Microservices Architecture\n",
      "     - Docker and Kubernetes for containerization and orchestration\n",
      "     - Jest/Mocha/Jasmine for testing and mocking\n",
      "\n",
      "   **Phase 3: Best Practices & Specializations**\n",
      "\n",
      "   - Test-driven development (TDD) with tools like Jest, Mocha, or Jasmine\n",
      "   - Continuous Integration/Continuous Deployment (CI/CD) with tools such as Jenkins, CircleCI, or GitHub Actions\n",
      "   - Clean Architecture or Onion Architecture for scalable applications\n",
      "   - Real-world use cases: building a REST API for a CRUD application, implementing a GraphQL server, creating a single-page application (SPA) with React/Angular/Vue.js\n",
      "   - Specialize in a domain: eCommerce, Healthcare, Finance, etc.\n",
      "\n",
      "   **Phase 4: Keeping Up-to-Date**\n",
      "\n",
      "   - Stay informed about the latest trends, tools, and best practices by following industry leaders, attending meetups/conferences, reading blogs, and watching videos\n",
      "   - Experiment with new technologies such as WebAssembly, Serverless, Progressive Web Apps (PWA), or Push APIs\n",
      "   - Continuously refactor and optimize your codebase for performance improvements\n",
      "   - Collaborate on open-source projects to enhance your skills and gain exposure\n",
      "\n",
      "   With this roadmap in hand, you'll be well-prepared to navigate the dynamic landscape of Full Stack Development. Happy coding! 🎉💻\n"
     ]
    }
   ],
   "source": [
    "playing_any_role(\"\"\"Microsoft Certified Trainer of Full Stack\"\"\", \"\"\"I want a Road Map for Full Stack Development\"\"\")"
   ]
  },
  {
   "cell_type": "code",
   "execution_count": null,
   "id": "09c01167-0691-4c6e-a13a-afb3908f51aa",
   "metadata": {},
   "outputs": [],
   "source": []
  }
 ],
 "metadata": {
  "kernelspec": {
   "display_name": "Python 3 (ipykernel)",
   "language": "python",
   "name": "python3"
  },
  "language_info": {
   "codemirror_mode": {
    "name": "ipython",
    "version": 3
   },
   "file_extension": ".py",
   "mimetype": "text/x-python",
   "name": "python",
   "nbconvert_exporter": "python",
   "pygments_lexer": "ipython3",
   "version": "3.12.7"
  }
 },
 "nbformat": 4,
 "nbformat_minor": 5
}
