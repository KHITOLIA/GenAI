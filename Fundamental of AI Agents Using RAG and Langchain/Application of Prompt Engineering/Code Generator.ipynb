{
 "cells": [
  {
   "cell_type": "code",
   "execution_count": 32,
   "id": "7ebd4c83-6f70-4fd2-8f87-857045686ce2",
   "metadata": {},
   "outputs": [],
   "source": [
    "from langchain.prompts import PromptTemplate\n",
    "from langchain.chains import LLMChain\n",
    "from langchain.llms import Ollama"
   ]
  },
  {
   "cell_type": "code",
   "execution_count": 38,
   "id": "8951fc49-957b-4526-99e3-3442b5a19348",
   "metadata": {},
   "outputs": [],
   "source": [
    "def code_generator(question, language):\n",
    "    template = \"\"\"write code for this question : {question} in {language}\n",
    "                  CODE : \n",
    "\"\"\" \n",
    "                \n",
    "    prompt = PromptTemplate.from_template(template)\n",
    "    output_key = \"CODE\"\n",
    "    \n",
    "    llm = Ollama(model = 'mistral')\n",
    "    llm_chain = LLMChain(prompt=prompt, llm = llm, output_key = output_key, verbose=True)\n",
    "    response = llm_chain.invoke(input = {\"question\" : question, \"language\" : language})\n",
    "    return print(response['CODE'])"
   ]
  },
  {
   "cell_type": "code",
   "execution_count": 39,
   "id": "4c32aede-d402-4ac7-ac01-c103be59a1d9",
   "metadata": {},
   "outputs": [
    {
     "name": "stdout",
     "output_type": "stream",
     "text": [
      "\n",
      "\n",
      "\u001b[1m> Entering new LLMChain chain...\u001b[0m\n",
      "Prompt after formatting:\n",
      "\u001b[32;1m\u001b[1;3mwrite code for this question : write a program to check the given string is pallindrome without using slicing concept string = naman\n",
      "reverse_string = naman \n",
      "without any explaination just give me the code that's what i need the most in python\n",
      "                  CODE : \n",
      "\u001b[0m\n",
      "\n",
      "\u001b[1m> Finished chain.\u001b[0m\n",
      " ```python\n",
      "def is_palindrome(s):\n",
      "    return s == s[::-1]\n",
      "\n",
      "s = \"naman\"\n",
      "print(is_palindrome(s))\n",
      "```\n"
     ]
    }
   ],
   "source": [
    "code = code_generator(\"\"\"write a program to check the given string is pallindrome without using slicing concept string = naman\n",
    "reverse_string = naman \n",
    "without any explaination just give me the code that's what i need the most\"\"\", \"python\")"
   ]
  },
  {
   "cell_type": "code",
   "execution_count": null,
   "id": "58bf0c6a-32b8-4bd4-9275-ab5b5fe2a540",
   "metadata": {},
   "outputs": [],
   "source": []
  },
  {
   "cell_type": "code",
   "execution_count": null,
   "id": "f666f22c-3c59-4817-8ca5-07c849fc5596",
   "metadata": {},
   "outputs": [],
   "source": []
  }
 ],
 "metadata": {
  "kernelspec": {
   "display_name": "Python 3 (ipykernel)",
   "language": "python",
   "name": "python3"
  },
  "language_info": {
   "codemirror_mode": {
    "name": "ipython",
    "version": 3
   },
   "file_extension": ".py",
   "mimetype": "text/x-python",
   "name": "python",
   "nbconvert_exporter": "python",
   "pygments_lexer": "ipython3",
   "version": "3.12.7"
  }
 },
 "nbformat": 4,
 "nbformat_minor": 5
}
