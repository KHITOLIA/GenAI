{
 "cells": [
  {
   "cell_type": "code",
   "execution_count": 1,
   "id": "fdb1fdf7-2047-4f09-b09e-d305cc4166cb",
   "metadata": {},
   "outputs": [],
   "source": [
    "from langchain.prompts import PromptTemplate\n",
    "from langchain.chains import LLMChain\n",
    "from langchain.llms import Ollama\n"
   ]
  },
  {
   "cell_type": "code",
   "execution_count": 10,
   "id": "14d64a26-ff83-4b68-92cd-7c524de6c203",
   "metadata": {},
   "outputs": [],
   "source": [
    "def Text_summarization(content):\n",
    "    template = \"\"\"summarize the {content} in a very concise manner\"\"\"\n",
    "    \n",
    "    prompt = PromptTemplate.from_template(template)\n",
    "    \n",
    "    llm = Ollama(model = 'mistral')\n",
    "    \n",
    "    llm_chain = LLMChain(prompt=prompt, llm = llm, verbose = True)\n",
    "    \n",
    "    text_summarization = llm_chain.invoke(input = {\"content\" : content})\n",
    "    \n",
    "    print(text_summarization['text'])"
   ]
  },
  {
   "cell_type": "code",
   "execution_count": 8,
   "id": "276a3f7f-f4c8-471f-b823-4d759c705bd5",
   "metadata": {},
   "outputs": [
    {
     "name": "stdout",
     "output_type": "stream",
     "text": [
      "\n",
      "\n",
      "\u001b[1m> Entering new LLMChain chain...\u001b[0m\n",
      "Prompt after formatting:\n",
      "\u001b[32;1m\u001b[1;3msummarize the The rapid advancement of technology in the 21st century has transformed various industries, including healthcare, education, and transportation. \n",
      "        Innovations such as artificial intelligence, machine learning, and the Internet of Things have revolutionized how we approach everyday tasks and complex problems. \n",
      "        For instance, AI-powered diagnostic tools are improving the accuracy and speed of medical diagnoses, while smart transportation systems are making cities more efficient and reducing traffic congestion. \n",
      "        Moreover, online learning platforms are making education more accessible to people around the world, breaking down geographical and financial barriers. \n",
      "        These technological developments are not only enhancing productivity but also contributing to a more interconnected and informed society. in a very concise manner\u001b[0m\n",
      "\n",
      "\u001b[1m> Finished chain.\u001b[0m\n"
     ]
    }
   ],
   "source": [
    "summary = Text_summarization(\"\"\"The rapid advancement of technology in the 21st century has transformed various industries, including healthcare, education, and transportation. \n",
    "        Innovations such as artificial intelligence, machine learning, and the Internet of Things have revolutionized how we approach everyday tasks and complex problems. \n",
    "        For instance, AI-powered diagnostic tools are improving the accuracy and speed of medical diagnoses, while smart transportation systems are making cities more efficient and reducing traffic congestion. \n",
    "        Moreover, online learning platforms are making education more accessible to people around the world, breaking down geographical and financial barriers. \n",
    "        These technological developments are not only enhancing productivity but also contributing to a more interconnected and informed society.\"\"\")"
   ]
  },
  {
   "cell_type": "code",
   "execution_count": 9,
   "id": "82800fea-783b-4c6f-9a6e-6a39d6783143",
   "metadata": {},
   "outputs": [
    {
     "data": {
      "text/plain": [
       "'21st-century technology advancements have significantly transformed healthcare, education, and transportation. Innovations like AI, machine learning, and IoT have improved medical diagnostics, streamlined cities with smart transportation systems, and made education more accessible through online platforms. These technological leaps are increasing productivity, fostering a connected society, and removing geographical/financial barriers.'"
      ]
     },
     "execution_count": 9,
     "metadata": {},
     "output_type": "execute_result"
    }
   ],
   "source": [
    "summary"
   ]
  },
  {
   "cell_type": "code",
   "execution_count": 11,
   "id": "e51a5911-1f59-42ca-beac-5c74eb85d632",
   "metadata": {},
   "outputs": [
    {
     "name": "stdout",
     "output_type": "stream",
     "text": [
      "\n",
      "\n",
      "\u001b[1m> Entering new LLMChain chain...\u001b[0m\n",
      "Prompt after formatting:\n",
      "\u001b[32;1m\u001b[1;3msummarize the Machine learning (ML) is a branch of artificial intelligence (AI) that focuses on enabling computers to learn from data without being explicitly programmed. It involves creating algorithms that can analyze patterns in data and generate models for specific tasks, allowing for predictions and intelligent behavior. In essence, ML teaches systems to think and understand like humans by learning from data. \n",
      "Here's a more detailed explanation:\n",
      "Learning from Data:\n",
      "Instead of being explicitly told how to perform a task, ML algorithms learn by analyzing large amounts of data. \n",
      "Pattern Recognition:\n",
      "ML algorithms identify patterns and relationships within data, allowing them to make predictions or decisions. \n",
      "Models:\n",
      "The learned patterns are often represented as models, which can be used to make predictions or classifications on new, unseen data. \n",
      "Types of Machine Learning:\n",
      "Supervised Learning: Algorithms learn from labeled data (input and output) to make predictions. \n",
      "Unsupervised Learning: Algorithms discover patterns and relationships in unlabeled data. \n",
      "Reinforcement Learning: Algorithms learn through trial and error, receiving rewards or penalties for their actions. \n",
      "Applications:\n",
      "ML has a wide range of applications, including: \n",
      "Image and speech recognition: IBM says. \n",
      "Predictive analytics: Oracle says. \n",
      "Fraud detection: AWS says. \n",
      "Self-driving cars: Coursera says.  in a very concise manner\u001b[0m\n",
      "\n",
      "\u001b[1m> Finished chain.\u001b[0m\n",
      " Machine Learning (ML) is a branch of Artificial Intelligence (AI) that enables computers to learn from data without explicit programming, allowing them to identify patterns and make predictions or decisions. It can be broken down into three main areas:\n",
      "\n",
      "1. Learning from Data: Instead of being explicitly told how to perform a task, ML algorithms learn by analyzing large amounts of data.\n",
      "2. Pattern Recognition: ML algorithms identify patterns and relationships within the data, which they use to make predictions or decisions.\n",
      "3. Models: The learned patterns are often represented as models, which can be applied to new, unseen data for predictions or classifications.\n",
      "\n",
      "There are three main types of Machine Learning: Supervised Learning (algorithms learn from labeled data), Unsupervised Learning (algorithms discover patterns in unlabeled data), and Reinforcement Learning (algorithms learn through trial and error).\n",
      "\n",
      "Applications include image and speech recognition, predictive analytics, fraud detection, and self-driving cars.\n"
     ]
    }
   ],
   "source": [
    "Text_summarization(\"\"\"Machine learning (ML) is a branch of artificial intelligence (AI) that focuses on enabling computers to learn from data without being explicitly programmed. It involves creating algorithms that can analyze patterns in data and generate models for specific tasks, allowing for predictions and intelligent behavior. In essence, ML teaches systems to think and understand like humans by learning from data. \n",
    "Here's a more detailed explanation:\n",
    "Learning from Data:\n",
    "Instead of being explicitly told how to perform a task, ML algorithms learn by analyzing large amounts of data. \n",
    "Pattern Recognition:\n",
    "ML algorithms identify patterns and relationships within data, allowing them to make predictions or decisions. \n",
    "Models:\n",
    "The learned patterns are often represented as models, which can be used to make predictions or classifications on new, unseen data. \n",
    "Types of Machine Learning:\n",
    "Supervised Learning: Algorithms learn from labeled data (input and output) to make predictions. \n",
    "Unsupervised Learning: Algorithms discover patterns and relationships in unlabeled data. \n",
    "Reinforcement Learning: Algorithms learn through trial and error, receiving rewards or penalties for their actions. \n",
    "Applications:\n",
    "ML has a wide range of applications, including: \n",
    "Image and speech recognition: IBM says. \n",
    "Predictive analytics: Oracle says. \n",
    "Fraud detection: AWS says. \n",
    "Self-driving cars: Coursera says. \"\"\")"
   ]
  },
  {
   "cell_type": "code",
   "execution_count": null,
   "id": "aa6246cb-d5fc-4761-baf0-03a53f16928b",
   "metadata": {},
   "outputs": [],
   "source": []
  }
 ],
 "metadata": {
  "kernelspec": {
   "display_name": "Python 3 (ipykernel)",
   "language": "python",
   "name": "python3"
  },
  "language_info": {
   "codemirror_mode": {
    "name": "ipython",
    "version": 3
   },
   "file_extension": ".py",
   "mimetype": "text/x-python",
   "name": "python",
   "nbconvert_exporter": "python",
   "pygments_lexer": "ipython3",
   "version": "3.12.7"
  }
 },
 "nbformat": 4,
 "nbformat_minor": 5
}
