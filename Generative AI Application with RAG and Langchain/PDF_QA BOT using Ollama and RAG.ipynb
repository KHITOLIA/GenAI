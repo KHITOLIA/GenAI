{
 "cells": [
  {
   "cell_type": "code",
   "execution_count": 4,
   "id": "370e1197-06b0-4456-aebf-85cc86a36c89",
   "metadata": {},
   "outputs": [],
   "source": [
    "import ollama\n",
    "import gradio as gr\n",
    "from langchain.document_loaders import PyPDFLoader\n",
    "from langchain.text_splitter import RecursiveCharacterTextSplitter\n",
    "from langchain.vectorstores import FAISS\n",
    "from langchain.embeddings import HuggingFaceEmbeddings\n",
    "from langchain.llms import Ollama\n",
    "from langchain.chains import RetrievalQA\n",
    "# Global chain storage\n",
    "qa_chain = None\n",
    "# Step 1: Load and process the PDF\n",
    "def process_pdf_and_answer(pdf_file, question):\n",
    "    global qa_chain\n",
    "    if pdf_file is None:\n",
    "        return \"❌ Please upload a PDF file.\"\n",
    "    try:\n",
    "        loader = PyPDFLoader(pdf_file.name)\n",
    "        documents = loader.load()\n",
    "        text_splitter = RecursiveCharacterTextSplitter(chunk_size=1000, chunk_overlap=100)\n",
    "        docs = text_splitter.split_documents(documents)\n",
    "        embeddings = HuggingFaceEmbeddings(model_name=\"sentence-transformers/all-MiniLM-L6-v2\")\n",
    "        vector_store = FAISS.from_documents(docs, embeddings)\n",
    "        llm = Ollama(model=\"llama3.2\")\n",
    "        qa_chain = RetrievalQA.from_llm(llm=llm, retriever=vector_store.as_retriever())\n",
    "        if not question.strip():\n",
    "            return \"✅ PDF processed! Now enter a question.\"\n",
    "        return qa_chain.run(question)\n",
    "    except Exception as e:\n",
    "        return f\"❌ Error: {str(e)}\"\n",
    "# Step 2: Gradio Interface (Simple UI)\n",
    "demo = gr.Interface(\n",
    "    fn=process_pdf_and_answer,\n",
    "    inputs=[\n",
    "        gr.File(label=\"📄 Upload a PDF\"),\n",
    "        gr.Textbox(lines=2, label=\"❓ Ask a question about the PDF\")],\n",
    "    outputs=gr.Textbox(label=\"🧠 Answer from the PDF\"),\n",
    "    title=\"LangChain + Ollama PDF QA Bot\",\n",
    "    description=\"Upload a PDF and ask questions. Powered by Ollama + llama3.2 + LangChain\",\n",
    "    theme=\"soft\")"
   ]
  },
  {
   "cell_type": "code",
   "execution_count": 9,
   "id": "6dd1c195-7c16-4b99-9d19-01f8029af3c6",
   "metadata": {},
   "outputs": [],
   "source": [
    "demo.launch()"
   ]
  },
  {
   "cell_type": "code",
   "execution_count": null,
   "id": "7681c273-b6b4-4ffc-babe-7cd781571a10",
   "metadata": {},
   "outputs": [],
   "source": [
    "demo.close()"
   ]
  }
 ],
 "metadata": {
  "kernelspec": {
   "display_name": "Python 3 (ipykernel)",
   "language": "python",
   "name": "python3"
  },
  "language_info": {
   "codemirror_mode": {
    "name": "ipython",
    "version": 3
   },
   "file_extension": ".py",
   "mimetype": "text/x-python",
   "name": "python",
   "nbconvert_exporter": "python",
   "pygments_lexer": "ipython3",
   "version": "3.12.7"
  }
 },
 "nbformat": 4,
 "nbformat_minor": 5
}
