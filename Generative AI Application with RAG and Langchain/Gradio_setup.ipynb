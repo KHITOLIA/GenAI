{
 "cells": [
  {
   "cell_type": "code",
   "execution_count": 28,
   "id": "1de45ba4-95c1-4c76-87d0-3c1fd6e433c6",
   "metadata": {},
   "outputs": [
    {
     "name": "stdout",
     "output_type": "stream",
     "text": [
      "Closing server running on port: 7866\n"
     ]
    }
   ],
   "source": [
    "# !pip install gradio\n",
    "demo.close()"
   ]
  },
  {
   "cell_type": "code",
   "execution_count": 1,
   "id": "cded3b57-4f06-4431-96e0-9a4120131180",
   "metadata": {},
   "outputs": [],
   "source": [
    "import gradio as gr"
   ]
  },
  {
   "cell_type": "markdown",
   "id": "7720bdb6-290a-4be6-910f-eb5ddbf93e0a",
   "metadata": {},
   "source": [
    "# Normal Text and Number shown on website"
   ]
  },
  {
   "cell_type": "code",
   "execution_count": 23,
   "id": "0ba3e5cb-9a17-4295-86c6-af2eb4800d21",
   "metadata": {},
   "outputs": [],
   "source": [
    "def UI_process(text, number):\n",
    "    return f\" you entered : {text} {number}\"\n",
    "    "
   ]
  },
  {
   "cell_type": "code",
   "execution_count": 24,
   "id": "3103423c-28fe-4982-ad6d-a3e7c6735540",
   "metadata": {},
   "outputs": [
    {
     "name": "stdout",
     "output_type": "stream",
     "text": [
      "* Running on local URL:  http://127.0.0.1:7866\n",
      "* Running on public URL: https://204d9322524ea4332b.gradio.live\n",
      "\n",
      "This share link expires in 1 week. For free permanent hosting and GPU upgrades, run `gradio deploy` from the terminal in the working directory to deploy to Hugging Face Spaces (https://huggingface.co/spaces)\n"
     ]
    },
    {
     "data": {
      "text/html": [
       "<div><iframe src=\"https://204d9322524ea4332b.gradio.live\" width=\"100%\" height=\"500\" allow=\"autoplay; camera; microphone; clipboard-read; clipboard-write;\" frameborder=\"0\" allowfullscreen></iframe></div>"
      ],
      "text/plain": [
       "<IPython.core.display.HTML object>"
      ]
     },
     "metadata": {},
     "output_type": "display_data"
    },
    {
     "data": {
      "text/plain": []
     },
     "execution_count": 24,
     "metadata": {},
     "output_type": "execute_result"
    }
   ],
   "source": [
    "demo = gr.Interface(\n",
    "    fn = UI_process,\n",
    "    inputs = [gr.Number(label = \"Enter a Number : \"), gr.Textbox(label = \"Enter your Text : \")],\n",
    "    outputs = gr.Textbox(label = \"Output\")\n",
    ")\n",
    "demo.launch(share =True)"
   ]
  },
  {
   "cell_type": "markdown",
   "id": "dd6c47ee-eebd-46d6-9cee-869c8922eca7",
   "metadata": {},
   "source": [
    "# How to upload any type of files by selecting them together"
   ]
  },
  {
   "cell_type": "code",
   "execution_count": 18,
   "id": "c0007cf4-a320-414b-a6c9-17f9febb1d29",
   "metadata": {},
   "outputs": [
    {
     "name": "stdout",
     "output_type": "stream",
     "text": [
      "* Running on local URL:  http://127.0.0.1:7866\n",
      "* Running on public URL: https://57c76e56ca550e8a09.gradio.live\n",
      "\n",
      "This share link expires in 1 week. For free permanent hosting and GPU upgrades, run `gradio deploy` from the terminal in the working directory to deploy to Hugging Face Spaces (https://huggingface.co/spaces)\n"
     ]
    },
    {
     "data": {
      "text/html": [
       "<div><iframe src=\"https://57c76e56ca550e8a09.gradio.live\" width=\"100%\" height=\"500\" allow=\"autoplay; camera; microphone; clipboard-read; clipboard-write;\" frameborder=\"0\" allowfullscreen></iframe></div>"
      ],
      "text/plain": [
       "<IPython.core.display.HTML object>"
      ]
     },
     "metadata": {},
     "output_type": "display_data"
    },
    {
     "data": {
      "text/plain": []
     },
     "execution_count": 18,
     "metadata": {},
     "output_type": "execute_result"
    }
   ],
   "source": [
    "def count_files(files):\n",
    "    return f\"Number of files uploaded : {len(files)}\"\n",
    "\n",
    "demo = gr.Interface(\n",
    "    fn = count_files,\n",
    "    inputs = gr.File(file_count=\"multiple\",label = \"Upload or Drag your file here please\"),\n",
    "    outputs = gr.Textbox(label = \"Number of files Uploaded \"),\n",
    "    theme=\"soft\"\n",
    ")\n",
    "demo.launch(share =True)"
   ]
  },
  {
   "cell_type": "code",
   "execution_count": 40,
   "id": "d76023d1-72bd-48fb-94c1-3e0a1f99377b",
   "metadata": {},
   "outputs": [
    {
     "name": "stdout",
     "output_type": "stream",
     "text": [
      "Closing server running on port: 7867\n"
     ]
    }
   ],
   "source": [
    "demo.close()"
   ]
  },
  {
   "cell_type": "markdown",
   "id": "9802eda3-39bf-47a0-aa0b-51d420ef9acd",
   "metadata": {},
   "source": [
    "# How to upload file one by one "
   ]
  },
  {
   "cell_type": "code",
   "execution_count": 36,
   "id": "b400bfa7-309f-47c7-806c-7e689617c9e8",
   "metadata": {},
   "outputs": [
    {
     "name": "stderr",
     "output_type": "stream",
     "text": [
      "C:\\Users\\tbaka\\anaconda3\\Lib\\site-packages\\gradio\\blocks.py:1116: UserWarning: Cannot load Nymbo/Nymbo_Theme. Caught Exception: 401 Client Error: Unauthorized for url: https://huggingface.co/api/spaces/Nymbo/Nymbo_Theme (Request ID: Root=1-681df516-771ebb7f0da1465c0a32fdcd;13d308b7-a4a5-48c3-9315-7dd62f7891cf)\n",
      "\n",
      "Invalid credentials in Authorization header\n",
      "  warnings.warn(f\"Cannot load {theme}. Caught Exception: {str(e)}\")\n"
     ]
    },
    {
     "name": "stdout",
     "output_type": "stream",
     "text": [
      "* Running on local URL:  http://127.0.0.1:7867\n",
      "* Running on public URL: https://9d714f9cbf0f4ec989.gradio.live\n",
      "\n",
      "This share link expires in 1 week. For free permanent hosting and GPU upgrades, run `gradio deploy` from the terminal in the working directory to deploy to Hugging Face Spaces (https://huggingface.co/spaces)\n"
     ]
    },
    {
     "data": {
      "text/html": [
       "<div><iframe src=\"https://9d714f9cbf0f4ec989.gradio.live\" width=\"100%\" height=\"500\" allow=\"autoplay; camera; microphone; clipboard-read; clipboard-write;\" frameborder=\"0\" allowfullscreen></iframe></div>"
      ],
      "text/plain": [
       "<IPython.core.display.HTML object>"
      ]
     },
     "metadata": {},
     "output_type": "display_data"
    },
    {
     "data": {
      "text/plain": []
     },
     "execution_count": 36,
     "metadata": {},
     "output_type": "execute_result"
    }
   ],
   "source": [
    "def count_files(new_file, uploaded_files):\n",
    "    if new_file is not None:\n",
    "        uploaded_files.append(new_file)\n",
    "    return f\"Number of files uploaded : {len(uploaded_files)}\", uploaded_files\n",
    "\n",
    "# Gradio Interface\n",
    "\n",
    "demo = gr.Interface(\n",
    "    fn = count_files,\n",
    "    inputs = [\n",
    "        gr.File(label = \"Upload or Drag file here please\", file_count = \"single\"),\n",
    "        gr.State([])   # This keeps track if uploaded files\n",
    "    ],\n",
    "    outputs = [\n",
    "        gr.Textbox(label = \"Number of files uploaded\"),\n",
    "        gr.State([])\n",
    "    ],\n",
    "    live = True,\n",
    "    theme='Nymbo/Nymbo_Theme'\n",
    ")\n",
    "demo.launch(share = True)"
   ]
  },
  {
   "cell_type": "code",
   "execution_count": 39,
   "id": "c3a0cf19-057a-4caa-af0e-b4a783ce07a9",
   "metadata": {},
   "outputs": [
    {
     "name": "stdout",
     "output_type": "stream",
     "text": [
      "* Running on local URL:  http://127.0.0.1:7867\n",
      "* Running on public URL: https://71c4f85899d6196fa9.gradio.live\n",
      "\n",
      "This share link expires in 1 week. For free permanent hosting and GPU upgrades, run `gradio deploy` from the terminal in the working directory to deploy to Hugging Face Spaces (https://huggingface.co/spaces)\n"
     ]
    },
    {
     "data": {
      "text/html": [
       "<div><iframe src=\"https://71c4f85899d6196fa9.gradio.live\" width=\"100%\" height=\"500\" allow=\"autoplay; camera; microphone; clipboard-read; clipboard-write;\" frameborder=\"0\" allowfullscreen></iframe></div>"
      ],
      "text/plain": [
       "<IPython.core.display.HTML object>"
      ]
     },
     "metadata": {},
     "output_type": "display_data"
    },
    {
     "data": {
      "text/plain": []
     },
     "execution_count": 39,
     "metadata": {},
     "output_type": "execute_result"
    }
   ],
   "source": [
    "import gradio as gr\n",
    "\n",
    "def add_numbers(num1, num2):\n",
    "    return num1 + num2\n",
    "\n",
    "# Define Gradio Interface    \n",
    "demo = gr.Interface(\n",
    "    fn = add_numbers,\n",
    "    inputs = [gr.Number(label = \"Enter first num :\"), gr.Number(label = \"Enter second num : \")],\n",
    "    outputs = gr.Number()\n",
    ")\n",
    "demo.launch(share = True)"
   ]
  },
  {
   "cell_type": "code",
   "execution_count": 47,
   "id": "c6417733-4db7-41b4-8e35-5a87accbd8d9",
   "metadata": {},
   "outputs": [
    {
     "name": "stdout",
     "output_type": "stream",
     "text": [
      "* Running on local URL:  http://127.0.0.1:7868\n",
      "* To create a public link, set `share=True` in `launch()`.\n"
     ]
    },
    {
     "data": {
      "text/html": [
       "<div><iframe src=\"http://127.0.0.1:7868/\" width=\"100%\" height=\"500\" allow=\"autoplay; camera; microphone; clipboard-read; clipboard-write;\" frameborder=\"0\" allowfullscreen></iframe></div>"
      ],
      "text/plain": [
       "<IPython.core.display.HTML object>"
      ]
     },
     "metadata": {},
     "output_type": "display_data"
    },
    {
     "data": {
      "text/plain": []
     },
     "execution_count": 47,
     "metadata": {},
     "output_type": "execute_result"
    },
    {
     "name": "stdout",
     "output_type": "stream",
     "text": [
      "Created dataset file at: .gradio\\flagged\\dataset3.csv\n"
     ]
    }
   ],
   "source": [
    "def combine_text(text1, text2):\n",
    "    return (text1 +\" \" + text2)\n",
    "demo = gr.Interface(\n",
    "    fn = combine_text,\n",
    "    inputs=[gr.Textbox(label = \"First name :\"), gr.Textbox(label = \"Second name :\")],\n",
    "    outputs = gr.Textbox(label = \"User Name : \"),\n",
    "    theme = \"soft\"\n",
    ")\n",
    "demo.launch()"
   ]
  },
  {
   "cell_type": "code",
   "execution_count": 48,
   "id": "96d16ae7-060a-4db2-b5de-5e4afa103113",
   "metadata": {},
   "outputs": [
    {
     "name": "stdout",
     "output_type": "stream",
     "text": [
      "Closing server running on port: 7868\n"
     ]
    }
   ],
   "source": [
    "demo.close()"
   ]
  },
  {
   "cell_type": "code",
   "execution_count": 55,
   "id": "c6eeec0c-0262-4e93-a78f-ed149888cade",
   "metadata": {},
   "outputs": [
    {
     "name": "stdout",
     "output_type": "stream",
     "text": [
      "Closing server running on port: 7862\n"
     ]
    }
   ],
   "source": [
    "demo.close()"
   ]
  },
  {
   "cell_type": "markdown",
   "id": "7d7c3669-a4c4-424f-bfec-1b7f20f3746f",
   "metadata": {},
   "source": [
    "# Sentence Builder"
   ]
  },
  {
   "cell_type": "code",
   "execution_count": 51,
   "id": "3f0dc980-35af-4fbd-bf6e-463a69efc3c8",
   "metadata": {
    "collapsed": true,
    "jupyter": {
     "outputs_hidden": true
    }
   },
   "outputs": [
    {
     "name": "stdout",
     "output_type": "stream",
     "text": [
      "* Running on local URL:  http://127.0.0.1:7862\n",
      "* Running on public URL: https://f50922cf1ee902b42e.gradio.live\n",
      "\n",
      "This share link expires in 1 week. For free permanent hosting and GPU upgrades, run `gradio deploy` from the terminal in the working directory to deploy to Hugging Face Spaces (https://huggingface.co/spaces)\n"
     ]
    },
    {
     "data": {
      "text/html": [
       "<div><iframe src=\"https://f50922cf1ee902b42e.gradio.live\" width=\"100%\" height=\"500\" allow=\"autoplay; camera; microphone; clipboard-read; clipboard-write;\" frameborder=\"0\" allowfullscreen></iframe></div>"
      ],
      "text/plain": [
       "<IPython.core.display.HTML object>"
      ]
     },
     "metadata": {},
     "output_type": "display_data"
    },
    {
     "data": {
      "text/plain": []
     },
     "execution_count": 51,
     "metadata": {},
     "output_type": "execute_result"
    },
    {
     "name": "stdout",
     "output_type": "stream",
     "text": [
      "Using existing dataset file at: .gradio\\flagged\\dataset4.csv\n"
     ]
    }
   ],
   "source": [
    "# pip install gradio \n",
    "import gradio as gr\n",
    "\n",
    "def sentence_builder(quantity, tech_worker_type, countries, place, activity_list, morning):\n",
    "    return f\"\"\"The {quantity} {tech_worker_type}s from {\" and \".join(countries)} went to the {place} in {countries[0]} where they will be working together for {\" and \".join(activity_list)} production until next {\"morning\" if morning else \"night\"}\"\"\"\n",
    "\n",
    "demo = gr.Interface(\n",
    "    fn=sentence_builder,\n",
    "    inputs=[\n",
    "        gr.Slider(3, 20, value=4, step=1, label=\"Count\", info=\"Choose between 3 and 20\"),\n",
    "        gr.Dropdown(\n",
    "            [\"Data Scientist\", \"Software Developer\", \"Software Engineer\"], \n",
    "            label=\"tech_worker_type\", \n",
    "            info=\"Will add more tech worker types later!\"\n",
    "        ),\n",
    "        gr.CheckboxGroup([\"NEW DELHI\", \"BENGALURU\", \"NOIDA\", \"CYBER CITY\"], label=\"STATES\", info=\"MEETING LOCATION\"),\n",
    "        gr.Radio([\"OFFICE\", \"AUDITORIUM\", \"MEETING ROOM\"], label=\"Location\", info=\"MEETING SPOT\"),\n",
    "        gr.Dropdown(\n",
    "            [\"AI APPLICATION\", \"RAG APPLICATION WITH GRADIO INTEGRATION\", \"Q&A BOT IN MEDICAL DOMAIN\", \"INTEGRATION OF LANGCHAIN WITH OLLAMA MODELS\"],  \n",
    "            multiselect=True, \n",
    "            label=\"Activities\", \n",
    "            info=\"TASK OR AGENDA\"\n",
    "        ),\n",
    "        gr.Checkbox(label=\"Morning\", info=\"Did they do it in the morning?\"),\n",
    "    ],\n",
    "    outputs=\"text\",\n",
    "    examples=[\n",
    "        [3, \"Software Developer\", [\"NEW DELHI\", \"BENGALURU\"], \"restaurant\", [\"RAG APPLICATION WITH GRADIO INTEGRATION\", \"INTEGRATION OF LANGCHAIN WITH OLLAMA MODELS\"], True],\n",
    "        [4, \"Data Scientist\", [\"NOIDA\"], \"OFFICE\", [\"Q&A BOT IN MEDICAL DOMAIN\", \"AI APPLICATION\"], False],\n",
    "        [10, \"Software Engineer\", [\"CYBER CITY\", \"NEW DELHI\"], \"MEETING ROOM\", [\"INTEGRATION OF LANGCHAIN WITH OLLAMA MODELS\"], False],\n",
    "        [8, \"Data Scientist\", [\"BENGALURU\"], \"AUDITORIUM\", [\"AI APPLICATION\"], True],\n",
    "    ]\n",
    ")\n",
    "\n",
    "demo.launch(share = True)"
   ]
  },
  {
   "cell_type": "code",
   "execution_count": 81,
   "id": "c5919dcf-036b-4b03-a941-0b4bf2080c14",
   "metadata": {},
   "outputs": [
    {
     "name": "stdout",
     "output_type": "stream",
     "text": [
      "Closing server running on port: 7866\n"
     ]
    }
   ],
   "source": [
    "# demo.launch(share = True)\n",
    "demo.close()"
   ]
  },
  {
   "cell_type": "code",
   "execution_count": 1,
   "id": "07cffa6f-c6ba-4b9c-98da-5f8341b3d511",
   "metadata": {},
   "outputs": [],
   "source": [
    "prompt_template = \"\"\"\n",
    "Your name is JARVIS . Provide a **brief**, **precise**, and **clear** explanation about the following topic. \n",
    "Avoid long paragraphs. Give only the **core understanding** in 2-4 lines.\n",
    "\n",
    "After the explanation, include **1-2 useful links** for further reading.\n",
    "\n",
    "Topic: {topic}\n",
    "\"\"\"\n"
   ]
  },
  {
   "cell_type": "code",
   "execution_count": 50,
   "id": "3a7916cc-0036-44c1-9a2c-b2b11429090d",
   "metadata": {},
   "outputs": [
    {
     "name": "stdout",
     "output_type": "stream",
     "text": [
      "Hello! I'm JARVIS. Here's a brief overview of Generative AI Applications:\n",
      "\n",
      "Generative AI applications use machine learning algorithms to create new, original content such as images, videos, music, and text based on patterns learned from existing data. This enables the creation of realistic and diverse content without human input. Key applications include art generation, music composition, and language translation.\n",
      "\n",
      "Further reading:\n",
      "- \"What is Generative AI?\" by Google Developers (https://developers.google.com/ai-generative-ai)\n",
      "- \"Generative Adversarial Networks\" by Stanford University on Coursera (https://www.coursera.org/learn/generative-adversarial-networks)\n"
     ]
    }
   ],
   "source": [
    "import ollama\n",
    "\n",
    "client = ollama.Client()\n",
    "model = 'llama3.2'\n",
    "\n",
    "topic = \"GENERATIVE AI APPLICATION\"\n",
    "prompt = prompt_template.format(topic=topic)\n",
    "\n",
    "output = client.generate(model=model, prompt=prompt).response\n",
    "\n",
    "print(output)\n"
   ]
  },
  {
   "cell_type": "markdown",
   "id": "bd8db181-69c5-4b9c-9eda-80529ff53ec9",
   "metadata": {},
   "source": [
    "# Integrate LLM(ollama) with Gradio \n"
   ]
  },
  {
   "cell_type": "code",
   "execution_count": 2,
   "id": "ef240271-95a9-44fd-a5c6-09f3a4b07cad",
   "metadata": {},
   "outputs": [
    {
     "name": "stdout",
     "output_type": "stream",
     "text": [
      " Machine Learning (ML) is a subset of artificial intelligence that allows systems to automatically learn and improve from experience without being explicitly programmed. It focuses on creating algorithms to identify patterns in data, enabling predictions or decisions based on new data. This is useful for various applications, such as image recognition, recommendation systems, and natural language processing.\n",
      "\n",
      "For further reading:\n",
      "1. Machine Learning Basics - https://www.coursera.org/learn/machine-learning\n",
      "2. A Concise Overview of Machine Learning - https://medium.com/swlh/a-concise-overview-of-machine-learning-7553f44e0019\n"
     ]
    }
   ],
   "source": [
    "import ollama\n",
    "client = ollama.Client()\n",
    "model = \"mistral\"\n",
    "topic = \"what is machine learning ? \"\n",
    "prompt = prompt_template.format(topic = topic)\n",
    "output = client.generate(model, prompt = prompt ).response\n",
    "print(output)"
   ]
  },
  {
   "cell_type": "code",
   "execution_count": 3,
   "id": "b84c8cb5-418a-468f-8154-6725496bfe75",
   "metadata": {},
   "outputs": [],
   "source": [
    "# demo.close()"
   ]
  },
  {
   "cell_type": "code",
   "execution_count": null,
   "id": "c873b90b-ae94-4644-b32c-c9ada0bf5928",
   "metadata": {},
   "outputs": [],
   "source": []
  }
 ],
 "metadata": {
  "kernelspec": {
   "display_name": "Python 3 (ipykernel)",
   "language": "python",
   "name": "python3"
  },
  "language_info": {
   "codemirror_mode": {
    "name": "ipython",
    "version": 3
   },
   "file_extension": ".py",
   "mimetype": "text/x-python",
   "name": "python",
   "nbconvert_exporter": "python",
   "pygments_lexer": "ipython3",
   "version": "3.12.7"
  }
 },
 "nbformat": 4,
 "nbformat_minor": 5
}
