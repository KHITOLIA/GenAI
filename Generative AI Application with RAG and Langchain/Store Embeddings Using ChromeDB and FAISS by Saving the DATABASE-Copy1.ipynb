{
 "cells": [
  {
   "cell_type": "markdown",
   "id": "1e3d7ff3-dfbb-4018-ab57-d810e20cc434",
   "metadata": {},
   "source": [
    "# load the data from website"
   ]
  },
  {
   "cell_type": "code",
   "execution_count": 1,
   "id": "df71014c-257c-447a-bd78-c53c7035f008",
   "metadata": {},
   "outputs": [],
   "source": [
    "from langchain_community.document_loaders import WebBaseLoader\n",
    "\n",
    "loader = WebBaseLoader(\"https://cf-courses-data.s3.us.cloud-object-storage.appdomain.cloud/Ec5f3KYU1CpbKRp1whFLZw/new-Policies.txt\")\n",
    "data = loader.load()"
   ]
  },
  {
   "cell_type": "code",
   "execution_count": 2,
   "id": "c2a93b55-7a9a-4959-9a79-f6124807227c",
   "metadata": {},
   "outputs": [
    {
     "data": {
      "text/plain": [
       "\"1. Code of Conduct\\n\\nOur Code of Conduct establishes the core values and ethical standards that all members of our organization must adhere to. We are committed to fostering a workplace characterized by integrity, respect, and accountability.\\n\\nIntegrity: We commit to the highest ethical standards by being honest and transparent in all our dealings, whether with colleagues, clients, or the community. We protect sensitive information and avoid conflicts of interest.\\n\\nRespect: We value diversity and every individual's contribution. Discrimination, harassment, or any form of disrespect is not tolerated. We promote an inclusive environment where differences are respected, and everyone is treated with dignity.\\n\\nAccountability: We are responsible for our actions and decisions, complying with all relevant laws and regulations. We aim for continuous improvement and report any breaches of this code, supporting investigations into such matters.\\n\\nSafety: We prioritize the safety of our employees, clients, and the community. We encourage a culture of safety, including reporting any unsafe practices or conditions.\\n\\nEnvironmental Responsibility: We strive to reduce our environmental impact and promote sustainable practices.\\n\\nThis Code of Conduct is the cornerstone of our organizational culture. We expect every employee to uphold these principles and act as role models, ensuring our reputation for ethical conduct, integrity, and social responsibility.\\n\\n2. Recruitment Policy\\n\\nOur Recruitment Policy is dedicated to attracting, selecting, and integrating the most qualified and diverse candidates into our organization. The success of our company depends on the talent, skills, and commitment of our employees.\\n\\nEqual Opportunity: We are an equal opportunity employer and do not discriminate based on race, color, religion, sex, sexual orientation, gender identity, national origin, age, disability, or any other protected status. We actively support diversity and inclusion.\\n\\nTransparency: We maintain a transparent recruitment process. Job vacancies are advertised both internally and externally when appropriate. Job descriptions and requirements are clear and accurately reflect the role.\\n\\nSelection Criteria: We base our selection on qualifications, experience, and skills relevant to the role. Our interviews and assessments are objective, and decisions are made impartially.\\n\\nData Privacy: We are dedicated to protecting candidates' personal information and comply with all applicable data protection laws.\\n\\nFeedback: Candidates receive timely and constructive feedback on their applications and interview performance.\\n\\nOnboarding: New hires receive thorough onboarding to help them integrate effectively, including an overview of our culture, policies, and expectations.\\n\\nEmployee Referrals: We welcome employee referrals as they help build a strong and engaged team.\\n\\nThis policy lays the foundation for a diverse, inclusive, and talented workforce. It ensures that we hire candidates who align with our values and contribute to our success. We regularly review and update this policy to incorporate best practices in recruitment.\\n\\n\\n3. Internet and Email Policy\\n\\nOur Internet and Email Policy ensures the responsible and secure use of these tools within our organization, recognizing their importance in daily operations and the need for compliance with security, productivity, and legal standards.\\n\\nAcceptable Use: Company-provided internet and email are primarily for job-related tasks. Limited personal use is permitted during non-work hours as long as it does not interfere with work duties.\\n\\nSecurity: Protect your login credentials and avoid sharing passwords. Be cautious with email attachments and links from unknown sources, and promptly report any unusual online activity or potential security threats.\\n\\nConfidentiality: Use email for confidential information, trade secrets, and sensitive customer data only with encryption. Be careful when discussing company matters on public platforms or social media.\\n\\nHarassment and Inappropriate Content: Internet and email must not be used for harassment, discrimination, or the distribution of offensive content. Always communicate respectfully and sensitively online.\\n\\nCompliance: Adhere to all relevant laws and regulations concerning internet and email use, including copyright and data protection laws.\\n\\nMonitoring: The company reserves the right to monitor internet and email usage for security and compliance purposes.\\n\\nConsequences: Violations of this policy may lead to disciplinary action, including potential termination.\\n\\nThis policy promotes the safe and responsible use of digital communication tools in line with our values and legal obligations. Employees must understand and comply with this policy. Regular reviews will ensure it remains relevant with changing technology and security standards.\\n\\n4. Mobile Phone Policy\\n\\nOur Mobile Phone Policy defines standards for responsible use of mobile devices within the organization to ensure alignment with company values and legal requirements.\\n\\nAcceptable Use: Mobile devices are primarily for work-related tasks. Limited personal use is allowed if it does not disrupt work responsibilities.\\n\\nSecurity: Secure your mobile device and credentials. Be cautious with app downloads and links from unknown sources, and report any security issues promptly.\\n\\nConfidentiality: Avoid sharing sensitive company information via unsecured messaging apps or emails. Exercise caution when discussing company matters in public.\\n\\nCost Management: Personal use of mobile phones should be separate from company accounts, and any personal charges on company-issued phones must be reimbursed.\\n\\nCompliance: Comply with all relevant laws and regulations concerning mobile phone usage, including data protection and privacy laws.\\n\\nLost or Stolen Devices: Immediately report any lost or stolen mobile devices to the IT department or your supervisor.\\n\\nConsequences: Non-compliance with this policy may result in disciplinary actions, including potential loss of mobile phone privileges.\\n\\nThis policy encourages the responsible use of mobile devices in line with legal and ethical standards. Employees are expected to understand and follow these guidelines. The policy is regularly reviewed to stay current with evolving technology and security best practices.\\n\""
      ]
     },
     "execution_count": 2,
     "metadata": {},
     "output_type": "execute_result"
    }
   ],
   "source": [
    "data[0].page_content[:100]\n",
    "text = data[0].page_content\n",
    "text"
   ]
  },
  {
   "cell_type": "code",
   "execution_count": 3,
   "id": "aaa4ed28-8ac4-4999-962d-bc841b0c8514",
   "metadata": {},
   "outputs": [
    {
     "data": {
      "text/plain": [
       "'1. Code of Conduct'"
      ]
     },
     "execution_count": 3,
     "metadata": {},
     "output_type": "execute_result"
    }
   ],
   "source": [
    "from langchain.text_splitter import RecursiveCharacterTextSplitter\n",
    "\n",
    "splitter = RecursiveCharacterTextSplitter(\n",
    "    chunk_size=200, chunk_overlap=30,\n",
    "    length_function=len )\n",
    "\n",
    "text_chunks = splitter.split_text(text)\n",
    "text_chunks[0]"
   ]
  },
  {
   "cell_type": "markdown",
   "id": "97b038ce-a122-4f53-8c41-ee85b282d677",
   "metadata": {},
   "source": [
    "# Lets Use PreTrained_Embedding model by HuggingFace library"
   ]
  },
  {
   "cell_type": "code",
   "execution_count": 4,
   "id": "59bb8606-2565-442a-bc39-1d0eab46954b",
   "metadata": {},
   "outputs": [
    {
     "data": {
      "text/plain": [
       "HuggingFaceEmbeddings(client=SentenceTransformer(\n",
       "  (0): Transformer({'max_seq_length': 384, 'do_lower_case': False}) with Transformer model: MPNetModel \n",
       "  (1): Pooling({'word_embedding_dimension': 768, 'pooling_mode_cls_token': False, 'pooling_mode_mean_tokens': True, 'pooling_mode_max_tokens': False, 'pooling_mode_mean_sqrt_len_tokens': False, 'pooling_mode_weightedmean_tokens': False, 'pooling_mode_lasttoken': False, 'include_prompt': True})\n",
       "  (2): Normalize()\n",
       "), model_name='sentence-transformers/all-mpnet-base-v2', cache_folder=None, model_kwargs={}, encode_kwargs={}, multi_process=False, show_progress=False)"
      ]
     },
     "execution_count": 4,
     "metadata": {},
     "output_type": "execute_result"
    }
   ],
   "source": [
    "from langchain_community.embeddings import HuggingFaceEmbeddings\n",
    "model_name = 'sentence-transformers/all-mpnet-base-v2'\n",
    "embedding_model = HuggingFaceEmbeddings(model_name = model_name)\n",
    "embedding_model"
   ]
  },
  {
   "cell_type": "markdown",
   "id": "e121c064-5aa6-4cff-ba6b-f40d9fcc7050",
   "metadata": {},
   "source": [
    "# Now lets Create the embeddings for each chunks"
   ]
  },
  {
   "cell_type": "code",
   "execution_count": 5,
   "id": "2caa93cd-eeff-4510-a833-fe1d65846228",
   "metadata": {
    "scrolled": true
   },
   "outputs": [],
   "source": [
    "chunk_embeddings = embedding_model.embed_documents(text_chunks)\n"
   ]
  },
  {
   "cell_type": "code",
   "execution_count": 6,
   "id": "3c14e970-66fa-4ad4-9508-f0b95d0a9cee",
   "metadata": {},
   "outputs": [
    {
     "data": {
      "text/plain": [
       "52"
      ]
     },
     "execution_count": 6,
     "metadata": {},
     "output_type": "execute_result"
    }
   ],
   "source": [
    "len(chunk_embeddings)"
   ]
  },
  {
   "cell_type": "markdown",
   "id": "338fb65c-178e-421f-ba36-3cae4ce3c2e9",
   "metadata": {},
   "source": [
    "# Now store these chunks_embeddings into Vectordatabase using ChromaDB"
   ]
  },
  {
   "cell_type": "code",
   "execution_count": 7,
   "id": "6919162e-3e5a-4f23-834d-79bd43fc762e",
   "metadata": {},
   "outputs": [
    {
     "data": {
      "text/plain": [
       "52"
      ]
     },
     "execution_count": 7,
     "metadata": {},
     "output_type": "execute_result"
    }
   ],
   "source": [
    "idx = []\n",
    "for i in range(len(text_chunks)):\n",
    "    idx.append(str(i))\n",
    "len(idx)"
   ]
  },
  {
   "cell_type": "code",
   "execution_count": 8,
   "id": "89b89cb4-4cbc-4a7f-9d17-0dcc30356048",
   "metadata": {},
   "outputs": [],
   "source": [
    "from langchain.vectorstores import Chroma\n",
    "chroma_db = Chroma.from_texts(text_chunks, embedding_model, ids = idx)"
   ]
  },
  {
   "cell_type": "code",
   "execution_count": 9,
   "id": "e8760126-8475-4dcb-91eb-6dbb60720270",
   "metadata": {},
   "outputs": [
    {
     "data": {
      "text/plain": [
       "[Document(page_content='This policy promotes the safe and responsible use of digital communication tools in line with our values and legal obligations. Employees must understand and comply with this policy. Regular reviews'),\n",
       " Document(page_content='This policy encourages the responsible use of mobile devices in line with legal and ethical standards. Employees are expected to understand and follow these guidelines. The policy is regularly'),\n",
       " Document(page_content='Consequences: Violations of this policy may lead to disciplinary action, including potential termination.'),\n",
       " Document(page_content='3. Internet and Email Policy'),\n",
       " Document(page_content='4. Mobile Phone Policy\\n\\nOur Mobile Phone Policy defines standards for responsible use of mobile devices within the organization to ensure alignment with company values and legal requirements.')]"
      ]
     },
     "execution_count": 9,
     "metadata": {},
     "output_type": "execute_result"
    }
   ],
   "source": [
    "query = \"Smoking policy\"\n",
    "(chroma_db.similarity_search(query,k = 5))"
   ]
  },
  {
   "cell_type": "code",
   "execution_count": 10,
   "id": "0e304307-926d-49d8-bfd0-951c28cc7b7c",
   "metadata": {},
   "outputs": [
    {
     "data": {
      "text/plain": [
       "[Document(page_content='3. Internet and Email Policy'),\n",
       " Document(page_content='Confidentiality: Use email for confidential information, trade secrets, and sensitive customer data only with encryption. Be careful when discussing company matters on public platforms or social')]"
      ]
     },
     "execution_count": 10,
     "metadata": {},
     "output_type": "execute_result"
    }
   ],
   "source": [
    "retriever = chroma_db.as_retriever(search_kwargs = ({'k':2}))\n",
    "retriever.invoke(\"Email policy\")"
   ]
  },
  {
   "cell_type": "code",
   "execution_count": 11,
   "id": "4e8c1c3e-23db-4646-8c0d-8e9dc706ff38",
   "metadata": {},
   "outputs": [
    {
     "name": "stdout",
     "output_type": "stream",
     "text": [
      "['characterized by integrity, respect, and accountability.']\n"
     ]
    }
   ],
   "source": [
    "# print some text_chunks from database\n",
    "print(chroma_db._collection.get('2')['documents'])"
   ]
  },
  {
   "cell_type": "code",
   "execution_count": 12,
   "id": "c308abbd-03e2-48af-9bb5-9c61c7087fda",
   "metadata": {},
   "outputs": [
    {
     "data": {
      "text/plain": [
       "52"
      ]
     },
     "execution_count": 12,
     "metadata": {},
     "output_type": "execute_result"
    }
   ],
   "source": [
    "# print the length of database\n",
    "chroma_db._collection.count()"
   ]
  },
  {
   "cell_type": "code",
   "execution_count": 13,
   "id": "8b427138-96cd-4b3c-90c1-c1674aab072d",
   "metadata": {},
   "outputs": [
    {
     "data": {
      "text/plain": [
       "'This policy encourages the responsible use of mobile devices in line with legal and ethical standards. Employees are expected to understand and follow these guidelines. The policy is regularly'"
      ]
     },
     "execution_count": 13,
     "metadata": {},
     "output_type": "execute_result"
    }
   ],
   "source": [
    "query = \"what is your company policies\"\n",
    "similar_query = chroma_db.similarity_search(query, k=1)\n",
    "similar_query[0].page_content"
   ]
  },
  {
   "cell_type": "code",
   "execution_count": 14,
   "id": "ed7049c5-803a-4eb1-b19e-df8aaaff5f53",
   "metadata": {},
   "outputs": [
    {
     "name": "stdout",
     "output_type": "stream",
     "text": [
      "{'ids': [], 'embeddings': None, 'documents': [], 'uris': None, 'included': ['metadatas', 'documents'], 'data': None, 'metadatas': []}\n"
     ]
    }
   ],
   "source": [
    "# Add data to existing database\n",
    "Q1 = \"we want to add some data into chrome database\"\n",
    "from langchain_core.documents import Document\n",
    "new_chunk = Document(\n",
    "    page_content = Q1,\n",
    "    metadata = {\n",
    "        'source':'ibm.com',\n",
    "        'page' : 1\n",
    "    }\n",
    ")\n",
    "new_chunk = [new_chunk]\n",
    "print(chroma_db._collection.get('542'))"
   ]
  },
  {
   "cell_type": "code",
   "execution_count": 15,
   "id": "902dd3a9-25b3-411f-98f4-22efeecc60bd",
   "metadata": {},
   "outputs": [
    {
     "data": {
      "text/plain": [
       "['542']"
      ]
     },
     "execution_count": 15,
     "metadata": {},
     "output_type": "execute_result"
    }
   ],
   "source": [
    "chroma_db.add_documents(\n",
    "    documents = new_chunk,\n",
    "    ids = ['542']\n",
    ")"
   ]
  },
  {
   "cell_type": "code",
   "execution_count": 16,
   "id": "cce897c5-ed85-499b-b656-b84a4bdd4b6c",
   "metadata": {},
   "outputs": [
    {
     "name": "stdout",
     "output_type": "stream",
     "text": [
      "{'ids': ['542'], 'embeddings': None, 'documents': ['we want to add some data into chrome database'], 'uris': None, 'included': ['metadatas', 'documents'], 'data': None, 'metadatas': [{'page': 1, 'source': 'ibm.com'}]}\n"
     ]
    }
   ],
   "source": [
    "print(chroma_db._collection.get('542'))"
   ]
  },
  {
   "cell_type": "code",
   "execution_count": 17,
   "id": "20cf68aa-17c1-4ce4-a501-8f3a2271f22b",
   "metadata": {},
   "outputs": [],
   "source": [
    "update_chunk = Document(\n",
    "    page_content = 'We just updated the 542th index content here',\n",
    "    metadata={\n",
    "        'source':'ibm.com',\n",
    "        'page':1\n",
    "    }\n",
    ")"
   ]
  },
  {
   "cell_type": "code",
   "execution_count": 18,
   "id": "e9fd9f1c-beb6-4c69-ab64-c5d5bfeff6fc",
   "metadata": {},
   "outputs": [],
   "source": [
    "chroma_db.update_document(\n",
    "    '542',\n",
    "    update_chunk\n",
    ")"
   ]
  },
  {
   "cell_type": "code",
   "execution_count": 19,
   "id": "d628e62d-e629-4169-8a28-0ec8a2add0fd",
   "metadata": {},
   "outputs": [
    {
     "name": "stdout",
     "output_type": "stream",
     "text": [
      "{'ids': ['542'], 'embeddings': None, 'documents': ['We just updated the 542th index content here'], 'uris': None, 'included': ['metadatas', 'documents'], 'data': None, 'metadatas': [{'source': 'ibm.com', 'page': 1}]}\n"
     ]
    }
   ],
   "source": [
    "print(chroma_db._collection.get('542'))"
   ]
  },
  {
   "cell_type": "code",
   "execution_count": 20,
   "id": "dea6d182-bd6e-46d1-992a-e582938cbce4",
   "metadata": {},
   "outputs": [],
   "source": [
    "# if you want to delete any document or chunk(text)\n",
    "chroma_db._collection.delete('542')"
   ]
  },
  {
   "cell_type": "code",
   "execution_count": 21,
   "id": "17ffe9e5-72a7-489f-98ba-3ab7324791f4",
   "metadata": {},
   "outputs": [
    {
     "name": "stdout",
     "output_type": "stream",
     "text": [
      "{'ids': [], 'embeddings': None, 'documents': [], 'uris': None, 'included': ['metadatas', 'documents'], 'data': None, 'metadatas': []}\n"
     ]
    }
   ],
   "source": [
    "print(chroma_db._collection.get('542'))"
   ]
  },
  {
   "cell_type": "code",
   "execution_count": 26,
   "id": "ab29f292-88ef-4d34-8642-af2408a35e00",
   "metadata": {},
   "outputs": [],
   "source": [
    "chroma_db.persist() # save the model to the same directory\n",
    "chroma_db = Chroma(persist_directory=\"Chroma_DB\", embedding_function = embedding_model)"
   ]
  },
  {
   "cell_type": "code",
   "execution_count": null,
   "id": "259ccb51-04fa-43d3-ad93-9a5315da22a3",
   "metadata": {},
   "outputs": [],
   "source": []
  },
  {
   "cell_type": "markdown",
   "id": "780b3c68-9a48-4c59-ba17-db2792be33eb",
   "metadata": {},
   "source": [
    "# Now use a different DataBase like FAISS"
   ]
  },
  {
   "cell_type": "code",
   "execution_count": 20,
   "id": "f4a969e2-885f-41ac-abbc-fdfdbf9c56f1",
   "metadata": {},
   "outputs": [],
   "source": [
    "from langchain.vectorstores import FAISS\n",
    "faiss_db = FAISS.from_texts(text_chunks, embedding_model, ids = idx)"
   ]
  },
  {
   "cell_type": "code",
   "execution_count": 21,
   "id": "022e795a-696c-4153-a0df-76029d7dc379",
   "metadata": {},
   "outputs": [],
   "source": [
    "#print some stored data from FAISS_DB"
   ]
  },
  {
   "cell_type": "code",
   "execution_count": 22,
   "id": "a618657d-3667-4e1c-a0dc-8d92c63f21cb",
   "metadata": {},
   "outputs": [
    {
     "data": {
      "text/plain": [
       "[Document(page_content='child care, to be able to get back to work.'),\n",
       " Document(page_content='Tonight, I’m announcing a crackdown on these companies overcharging American businesses and consumers.')]"
      ]
     },
     "execution_count": 22,
     "metadata": {},
     "output_type": "execute_result"
    }
   ],
   "source": [
    "query = \"what is your company policies\"\n",
    "faiss_db.similarity_search(query, k= 2)"
   ]
  },
  {
   "cell_type": "code",
   "execution_count": 23,
   "id": "920b70ae-c08c-462c-9127-1522f1d02c5b",
   "metadata": {},
   "outputs": [],
   "source": [
    "# faiss_db?"
   ]
  },
  {
   "cell_type": "code",
   "execution_count": 24,
   "id": "1e357436-b8a4-4d88-8660-193d434ec6ed",
   "metadata": {},
   "outputs": [
    {
     "data": {
      "text/plain": [
       "[Document(page_content='child care, to be able to get back to work.'),\n",
       " Document(page_content='Tonight, I’m announcing a crackdown on these companies overcharging American businesses and consumers.')]"
      ]
     },
     "execution_count": 24,
     "metadata": {},
     "output_type": "execute_result"
    }
   ],
   "source": [
    "faiss_db.similarity_search(query, k=2) # simple search the closest content from data "
   ]
  },
  {
   "cell_type": "code",
   "execution_count": 25,
   "id": "8feb9fe5-a61f-4be8-b508-946f6ce74bbe",
   "metadata": {},
   "outputs": [
    {
     "data": {
      "text/plain": [
       "[Document(page_content='child care, to be able to get back to work.'),\n",
       " Document(page_content='Tonight, I’m announcing a crackdown on these companies overcharging American businesses and consumers.')]"
      ]
     },
     "execution_count": 25,
     "metadata": {},
     "output_type": "execute_result"
    }
   ],
   "source": [
    "embedded_query = embedding_model.embed_query(query)\n",
    "faiss_db.similarity_search_by_vector(embedded_query, k =2)   # it will use only embedded_vector of your query then search"
   ]
  },
  {
   "cell_type": "code",
   "execution_count": 26,
   "id": "e63d9ad4-4c00-4288-837d-2462fd29edf6",
   "metadata": {},
   "outputs": [
    {
     "data": {
      "text/plain": [
       "[(Document(page_content='child care, to be able to get back to work.'),\n",
       "  1.3609143),\n",
       " (Document(page_content='Tonight, I’m announcing a crackdown on these companies overcharging American businesses and consumers.'),\n",
       "  1.3922057)]"
      ]
     },
     "execution_count": 26,
     "metadata": {},
     "output_type": "execute_result"
    }
   ],
   "source": [
    "faiss_db.similarity_search_with_score(query, k =2)   # search the content and score too"
   ]
  },
  {
   "cell_type": "code",
   "execution_count": 27,
   "id": "b70cb2b5-4087-48dd-93a7-da6e20afe7e8",
   "metadata": {},
   "outputs": [
    {
     "data": {
      "text/plain": [
       "271"
      ]
     },
     "execution_count": 27,
     "metadata": {},
     "output_type": "execute_result"
    }
   ],
   "source": [
    "# Now count the total vector stored in database\n",
    "faiss_db.index.ntotal"
   ]
  },
  {
   "cell_type": "markdown",
   "id": "40b878a7-4ee1-494a-b781-dc649268f622",
   "metadata": {},
   "source": [
    "# Add data into FAISS_DATABASE"
   ]
  },
  {
   "cell_type": "code",
   "execution_count": 28,
   "id": "79952898-f612-4776-aad5-486985344a13",
   "metadata": {},
   "outputs": [
    {
     "data": {
      "text/plain": [
       "['4117cad1-bf30-4c82-b3a2-0b89a70eb1c0']"
      ]
     },
     "execution_count": 28,
     "metadata": {},
     "output_type": "execute_result"
    }
   ],
   "source": [
    "faiss_db.add_texts([\"new doc\"], metadatas=[{\"id\": \"new\"}])"
   ]
  },
  {
   "cell_type": "code",
   "execution_count": 29,
   "id": "b2f9fb46-e845-4400-973b-9da770a023ba",
   "metadata": {},
   "outputs": [
    {
     "data": {
      "text/plain": [
       "272"
      ]
     },
     "execution_count": 29,
     "metadata": {},
     "output_type": "execute_result"
    }
   ],
   "source": [
    "faiss_db.index.ntotal   # after adding one text it becomes 272"
   ]
  },
  {
   "cell_type": "code",
   "execution_count": 30,
   "id": "785015fb-8bb7-4003-b815-70e9bbd6393d",
   "metadata": {},
   "outputs": [],
   "source": [
    "# Save your database in directory\n",
    "faiss_db.save_local(\"FAISS_DB\")"
   ]
  },
  {
   "cell_type": "code",
   "execution_count": 31,
   "id": "abd3f95e-08a3-45bf-beb6-105f60dd4c8c",
   "metadata": {},
   "outputs": [],
   "source": [
    "# load your database for embedding new query for Gen_AI applications\n",
    "faiss_db = faiss_db.load_local(\"FAISS_DB\", embedding_model, allow_dangerous_deserialization=True)"
   ]
  },
  {
   "cell_type": "code",
   "execution_count": 32,
   "id": "126214e3-e90f-4b66-9723-cd50c7a4deb4",
   "metadata": {},
   "outputs": [
    {
     "data": {
      "text/plain": [
       "<langchain_community.vectorstores.faiss.FAISS at 0x2653f0bf860>"
      ]
     },
     "execution_count": 32,
     "metadata": {},
     "output_type": "execute_result"
    }
   ],
   "source": [
    "faiss_db"
   ]
  },
  {
   "cell_type": "code",
   "execution_count": 33,
   "id": "deed732b-2e06-4fbb-a9d5-d1026dc052d3",
   "metadata": {},
   "outputs": [
    {
     "data": {
      "text/plain": [
       "[Document(page_content='And on testing, we have made hundreds of millions of tests available for you to order for free.'),\n",
       " Document(page_content='But cancer from prolonged exposure to burn pits ravaged Heath’s lungs and body. \\n\\nDanielle says Heath was a fighter to the very end. \\n\\nHe didn’t know how to stop fighting, and neither did she.'),\n",
       " Document(page_content='Intel’s CEO, Pat Gelsinger, who is here tonight, told me they are ready to increase their investment from  \\n$20 billion to $100 billion.'),\n",
       " Document(page_content='We’ve set up joint patrols with Mexico and Guatemala to catch more human traffickers.')]"
      ]
     },
     "execution_count": 33,
     "metadata": {},
     "output_type": "execute_result"
    }
   ],
   "source": [
    "retriever = faiss_db.as_retriever(search_type = 'mmr')  # Maximum Marginal Relevance Retrieval\n",
    "docs = retriever.invoke(Q1)\n",
    "docs"
   ]
  },
  {
   "cell_type": "code",
   "execution_count": 34,
   "id": "49f48f11-f29c-4179-aae6-1de43e5817c2",
   "metadata": {},
   "outputs": [
    {
     "data": {
      "text/plain": [
       "[Document(page_content='And I’m taking robust action to make sure the pain of our sanctions  is targeted at Russia’s economy. And I will use every tool at our disposal to protect American businesses and consumers.'),\n",
       " Document(page_content='It’s time to strengthen privacy protections, ban targeted advertising to children, demand tech companies stop collecting personal data on our children.'),\n",
       " Document(page_content='We got more than 130 countries to agree on a global minimum tax rate so companies can’t get out of paying their taxes at home by shipping jobs and factories overseas.'),\n",
       " Document(page_content='And I ask Congress to pass proven measures to reduce gun violence. Pass universal background checks. Why should anyone on a terrorist list be able to purchase a weapon?')]"
      ]
     },
     "execution_count": 34,
     "metadata": {},
     "output_type": "execute_result"
    }
   ],
   "source": [
    "faiss_db.as_retriever(search_type = 'mmr').invoke(\"email policy\")"
   ]
  },
  {
   "cell_type": "code",
   "execution_count": 35,
   "id": "55ceb4c0-e7ae-419f-a133-9ac799c18463",
   "metadata": {},
   "outputs": [
    {
     "data": {
      "text/plain": [
       "[Document(page_content='And I’m taking robust action to make sure the pain of our sanctions  is targeted at Russia’s economy. And I will use every tool at our disposal to protect American businesses and consumers.'),\n",
       " Document(page_content='It’s time to strengthen privacy protections, ban targeted advertising to children, demand tech companies stop collecting personal data on our children.'),\n",
       " Document(page_content='As I have made crystal clear the United States and our Allies will defend every inch of territory of NATO countries with the full force of our collective power.'),\n",
       " Document(page_content='And I will keep doing everything in my power to crack down on gun trafficking and ghost guns you can buy online and make at home—they have no serial numbers and can’t be traced.')]"
      ]
     },
     "execution_count": 35,
     "metadata": {},
     "output_type": "execute_result"
    }
   ],
   "source": [
    "faiss_db.similarity_search(\"email policy\")"
   ]
  },
  {
   "cell_type": "code",
   "execution_count": 36,
   "id": "8cf6095c-4bea-4903-bde7-2b9de6a75293",
   "metadata": {},
   "outputs": [],
   "source": [
    "# So we can see that MMR is more effective and efficient than normal similar_search for searching the most similar or relevant content for the same query "
   ]
  },
  {
   "cell_type": "code",
   "execution_count": null,
   "id": "bb4abc01-82fd-431e-ab01-852a59a6fee4",
   "metadata": {},
   "outputs": [],
   "source": []
  },
  {
   "cell_type": "code",
   "execution_count": null,
   "id": "bef53598-2d30-4582-886d-3b043977473a",
   "metadata": {},
   "outputs": [],
   "source": []
  }
 ],
 "metadata": {
  "kernelspec": {
   "display_name": "Python 3 (ipykernel)",
   "language": "python",
   "name": "python3"
  },
  "language_info": {
   "codemirror_mode": {
    "name": "ipython",
    "version": 3
   },
   "file_extension": ".py",
   "mimetype": "text/x-python",
   "name": "python",
   "nbconvert_exporter": "python",
   "pygments_lexer": "ipython3",
   "version": "3.12.7"
  }
 },
 "nbformat": 4,
 "nbformat_minor": 5
}
