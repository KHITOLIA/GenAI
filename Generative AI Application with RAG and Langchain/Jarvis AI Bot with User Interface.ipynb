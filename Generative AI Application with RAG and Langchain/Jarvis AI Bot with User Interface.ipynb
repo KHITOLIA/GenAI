{
 "cells": [
  {
   "cell_type": "code",
   "execution_count": 2,
   "id": "11cb285f-d25c-4af1-96a2-48a7808d638b",
   "metadata": {},
   "outputs": [],
   "source": [
    "import ollama \n",
    "import gradio as gr"
   ]
  },
  {
   "cell_type": "code",
   "execution_count": 4,
   "id": "4a002a67-fc74-49c0-8ee2-5e8989d83974",
   "metadata": {},
   "outputs": [],
   "source": [
    "\n",
    "# Define the prompt template\n",
    "def generate_response(query):\n",
    "    prompt_template = \"\"\"\n",
    "Your name is JARVIS. Provide a **brief**, **precise**, and **clear** explanation about the following topic.\n",
    "Avoid long paragraphs. Give only the **core understanding** in 2-4 lines.\n",
    "\n",
    "After the explanation, include **1-2 useful links** for further reading.\n",
    "\n",
    "Query: {query}\n",
    "\"\"\"\n",
    "    prompt = prompt_template.format(query=query)\n",
    "    client = ollama.Client()\n",
    "    model = 'mistral'\n",
    "\n",
    "    response = client.generate(model=model, prompt=prompt).response\n",
    "    return response\n",
    "\n",
    "jarvis = gr.Interface(\n",
    "    fn = generate_response,\n",
    "    inputs = gr.Textbox(label  =\"YOU : \", lines = 2, placeholder = \"Type your question here....\"),\n",
    "    outputs = gr.Textbox(label = \"Jarvis Ai : \"),\n",
    "    title = \"Jarvis AI bot Assistant\",\n",
    "    description=\"Ask anything — JARVIS will give a concise summary and share helpful resources.\",\n",
    "    theme=\"soft\"\n",
    "\n",
    ")\n",
    "jarvis.launch()"
   ]
  },
  {
   "cell_type": "code",
   "execution_count": 7,
   "id": "9cc12dda-bd9c-422a-9c12-d1abeea76972",
   "metadata": {},
   "outputs": [
    {
     "name": "stdout",
     "output_type": "stream",
     "text": [
      "Closing server running on port: 7861\n"
     ]
    }
   ],
   "source": [
    "jarvis.close()"
   ]
  },
  {
   "cell_type": "code",
   "execution_count": null,
   "id": "0b7a8854-a3ad-4c44-853d-1a10477ef2e9",
   "metadata": {},
   "outputs": [],
   "source": []
  }
 ],
 "metadata": {
  "kernelspec": {
   "display_name": "Python 3 (ipykernel)",
   "language": "python",
   "name": "python3"
  },
  "language_info": {
   "codemirror_mode": {
    "name": "ipython",
    "version": 3
   },
   "file_extension": ".py",
   "mimetype": "text/x-python",
   "name": "python",
   "nbconvert_exporter": "python",
   "pygments_lexer": "ipython3",
   "version": "3.12.7"
  }
 },
 "nbformat": 4,
 "nbformat_minor": 5
}
